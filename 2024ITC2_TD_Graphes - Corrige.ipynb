{
 "cells": [
  {
   "cell_type": "markdown",
   "metadata": {
    "jp-MarkdownHeadingCollapsed": true,
    "tags": []
   },
   "source": [
    "# <center>TSI1 - Informatique tronc commun S2 (ITC2) - 2023-2024<br/></center>\n",
    "# <center>TD pour l'apprentissage et la manipulation des graphes<br/>(limitation aux graphes simples)</center>\n",
    "## <center>— Questionnaire du sujet (V 1.3 du 02-07-2024) —<br/>— et éléments de corrigé —</center>\n",
    "-----\n",
    "## Plan du document\n",
    "\n",
    "**Préambule : quelques rappels**\n",
    "- Syntaxe employée pour la définition des fonctions\n",
    "- Précisions sur le vocabulaire employé\n",
    "- Rappels sur le vocabulaire des graphes\n",
    "- Quelques fonctions utiles\n",
    "    - Fonction de vérification d'un objet de nature matricielle\n",
    "    - Fonction d'affichage des termes d'une matrice Python\n",
    "    - Fonction de vérification qu'une matrice est carrée\n",
    "    - Fonction de transposition de matrice\n",
    "\n",
    "**I. Analyse de graphes à partir d'exemples**\n",
    "\n",
    "I.1 Présentation des graphes exemples<br/>\n",
    "I.2 Représentation, codage et traitements des graphes non-orientés<br/>\n",
    "I.2.1 Usage d'une liste<br/>\n",
    "I.2.2 Usage d'un dictionnaire<br/>\n",
    "I.2.3 Usage de matrices<br/>\n",
    "I.2.4 Fonctions de traitement des graphes non-orientés<br/>\n",
    "I.2.4.1 liste d'adjacence vs. matrice d'adjacence<br/>\n",
    "I.2.4.2 liste et matrice d'adjacence vs. liste des arêtes<br/>\n",
    "I.2.4.3 Construction de la matrice d’incidence<br/>\n",
    "I.2.5 Bilan, conclusion<br/>\n",
    "I.3 Représentation, codage et traitements des graphes orientés<br/>\n",
    "I.3.1 Liste d'adjacence<br/>\n",
    "I.3.2 Dictionnaire d'adjacence<br/>\n",
    "I.3.3 Matrice d'adjacence<br/>\n",
    "I.3.4 Matrice d'incidence<br/>\n",
    "I.3.5 Fonctions de traitement des graphes orientés<br/>\n",
    "I.3.5.1 Construction de la matrice d'adjacence<br/>\n",
    "I.3.5.2 Construction de la liste des arêtes<br/>\n",
    "I.3.5.3 Construction de la matrice d’incidence\n",
    "\n",
    "**II. Fonctions de caractérisation des graphes**<br/>\n",
    "II.1 Symétrie de la matrice d'adjacence d'un graphe non-orienté<br/>\n",
    "II.2 Détection de la cohérence d'un graphe (orienté ou pas) par sa matrice d'incidence\n",
    "II.3 Caractéristiques des sommets d’un graphe"
   ]
  },
  {
   "cell_type": "markdown",
   "metadata": {
    "tags": []
   },
   "source": [
    "# Préambule : quelques rappels"
   ]
  },
  {
   "cell_type": "markdown",
   "metadata": {
    "tags": []
   },
   "source": [
    "## Syntaxe employée pour la définition des fonctions\n",
    "En Python, une fonction est définie à la suite du mot-clé `def` suivi des arguments placés entre parenthèses. Elle est cloturée par le mot-clé `return` suivi du n-uplet (tuple) des variables évaluées qui sont *renvoyés*, c'est à dire dont le contenu de chacune d'elle sera transmis lorsque la fonction sera appelée.\n",
    "\n",
    "Pour formaliser sa définition, la fonction protype précise précise son identifiant (son nom) et les arguments qui lui sont nécessaires associés à leur type, conformément à cet exemple :\n",
    "\n",
    "`def maFonction`(**n**:`int`, **X**:[`float`], **c**:`str`, **u**) -> (`int`, `np.ndarray`, `[float]`):\n",
    "\n",
    "Ce qui signifie que la fonction `maFonction` prend quatre arguments :\n",
    "\n",
    "* le premier (**n**) est un entier (type `int`),\n",
    "* le deuxième (**X**) une liste (type `list`) de nombres à virgule flottante (type `float`),\n",
    "* le troisième (**c**) une chaîne de caractères (type `str`)\n",
    "* et le type du dernier (**u**) n’est pas précisé."
   ]
  },
  {
   "cell_type": "markdown",
   "metadata": {},
   "source": [
    "## Précisions sur le vocabulaire employé\n",
    "- Un **objet** Python est une entité qui dispose d'un contenu et d'un type. Une **variable** est un autre nom pour signifier objet."
   ]
  },
  {
   "cell_type": "markdown",
   "metadata": {},
   "source": [
    "- Un **type** Python est une caractéristique commune à tous les objets d'une même catégorie. Par exemple, les entiers sont de type `int` (pour *integer*), les nombres à virgule ou flottants sont de type `float`, les caractères (*char*) et les chaînes de caractères (*string*) sont de type `str`."
   ]
  },
  {
   "cell_type": "markdown",
   "metadata": {},
   "source": [
    "- Une **séquence** représente une suite itérable d'éléments (qui peuvent être comptés) et indiçable (dont le rang des éléments est repéré par un indice démarrant le plus souvent à 0 en Python). Ainsi, un **n-uplet** (ou **tuple**) d’entiers (ex. `(1, 2, 3)`) et une liste d’entiers (ex. `[1, 2, 3]`) sont des **séquences d’entiers**. Pour cette étude, un objet Python, ou variable, qui n'est pas une séquence est appelé **scalaire**. Un scalaire ne peut être décomposé alors qu'une séquence l'est en ses éléments."
   ]
  },
  {
   "cell_type": "markdown",
   "metadata": {},
   "source": [
    "- Une **liste** Python est une séquence comportant des éléments de tous types (des entiers, des flottants, des caractères, des chaînes de caractères et même d'autres listes). Une liste est un objet de type `list`. **Il ne faut donc pas confondre l'objet *liste* et son type `list`**, même si dans la pratique les références aux deux appellations sont souvent confondues."
   ]
  },
  {
   "cell_type": "markdown",
   "metadata": {},
   "source": [
    "- Des **types compatibles** caractérisent des éléments qui peuvent être combinés par des opérations alors qu'ils ne sont pas de même type. Par exemple, les types `int` et `float` sont compatibles car il est possible d'effectuer la somme `2 + 3.14` ou le produit `3 * 4.1` alors que les opérandes sont des entiers et des flottants. Il en va de même pour les caractères et les chaînes de caractères, mais qui sont au final des objets de même type `str`."
   ]
  },
  {
   "cell_type": "markdown",
   "metadata": {},
   "source": [
    "- Quand un objet est de type `int` ou `float`, le type mentionné par `int|float` où le caractère `|` est l'**opérateur logique ou** (**or** en anglais)."
   ]
  },
  {
   "cell_type": "markdown",
   "metadata": {
    "tags": []
   },
   "source": [
    "## Rappels sur le vocabulaire des graphes\n",
    "### Sommets adjacents\n",
    "Pour rappel, le terme « **adjacence** » se réfère aux **sommets d'un graphe**. Dire de **deux sommets** qu'ils **sont adjacents** signifie qu'ils sont **reliés par une arête** (figure 1).\n",
    "\n",
    "<center><img src=\"illustrations/fig01_adjacence.pdf\"><br>\n",
    "Figure 1 – Illustration de l'adjacence de deux sommets.</center>\n",
    "\n",
    ">Si le **graphe** est **non-orienté** (figure 1, à gauche) l'adjacence est réciproque : `1` est adjacent à `2` tout comme `2` est adjacent à `1`.\n",
    ">\n",
    ">Si le **graphe** est **orienté** (figure 1, à droite) l'adjacence dépend du sens de l'arête (sens de la flèche) : `2` est adjacent à `1` car l'arête va de `1` vers `2` (on pourrait dire que `1` « voit » `2`). Par contre `2` n'est pas adjacent à `1` car l'arête ne vient pas de `2` (`2` ne voit pas `1`).\n",
    "\n",
    "### Arêtes incidentes\n",
    "Pour rappel, le terme « **incidence** » se réfère aux **arêtes d'un graphe**. Dire d'**une arête** qu'elle **est incidente à un sommet signifie qu'elle indique une relation avec lui** (figure 1).\n",
    "\n",
    ">Si le **graphe** est **non-orienté** (figure 1, à gauche) : l'arête est incidente aux deux sommets `1` et `2`.\n",
    ">\n",
    ">Si le **graphe** est **orienté** (figure 1, à droite) l'incidence dépend du sens de l'arête (sens de la flèche) : l'arête est **incidente entrante** au sommet `2` car elle se dirige vers lui (`2` est la destination) et l'arête est **incidente sortante** au sommet `1` car elle en provient (`1` est l'origine)."
   ]
  },
  {
   "cell_type": "code",
   "execution_count": null,
   "metadata": {},
   "outputs": [],
   "source": [
    "\n"
   ]
  },
  {
   "cell_type": "markdown",
   "metadata": {
    "tags": []
   },
   "source": [
    "## Quelques fonctions utiles\n",
    "### Fonction de vérification d'un objet de nature matricielle\n",
    "\n",
    "La fonction dont le protype est le suivant :\n",
    "\n",
    "`def isMatrix(U:list of list) -> bool:`\n",
    "\n",
    "renvoit `True` si `U` est une matrice et `False` sinon.\n",
    "\n",
    "Un script (possible) de cette fonction est le suivant :"
   ]
  },
  {
   "cell_type": "code",
   "execution_count": 7,
   "metadata": {},
   "outputs": [],
   "source": [
    "def isMatrix(U):\n",
    "    if U in ([], [[]]): # Cas de rejets possibles\n",
    "        return False # Listes sans éléments != matrice ou matrice ligne\n",
    "    for u in U: # Vérification que les éléments de U sont des listes\n",
    "        if type(u) != list: # Pas des listes\n",
    "            return False\n",
    "        if len(u) != len(U[0]): # Vérification des tailles\n",
    "            return False        \n",
    "    return True"
   ]
  },
  {
   "cell_type": "code",
   "execution_count": 8,
   "metadata": {},
   "outputs": [
    {
     "name": "stdout",
     "output_type": "stream",
     "text": [
      "[[1, 2], [3, 4]] matrice ? True\n",
      "[[10, -3, 0], [3, 4]] matrice ? False\n",
      "[[10, -3, 0], [3, 4], 5] matrice ? False\n"
     ]
    }
   ],
   "source": [
    "# Essais de isMatrix()\n",
    "M1 = [[1, 2], [3, 4]]\n",
    "print(M1, 'matrice ?', end=' ') ; print(isMatrix(M1)) # Renvoie True\n",
    "lst2 = [[10, -3, 0], [3, 4]]\n",
    "print(lst2, 'matrice ?', end=' ') ; print(isMatrix(lst2)) # Renvoie False\n",
    "lst3 = [[10, -3, 0], [3, 4], 5]\n",
    "print(lst3, 'matrice ?', end=' ') ; print(isMatrix(lst3)) # Renvoie False"
   ]
  },
  {
   "cell_type": "markdown",
   "metadata": {},
   "source": [
    "### Fonction d'affichage des termes d'une matrice Python\n",
    "La fonction dont le protype est le suivant :\n",
    "\n",
    "`def matrixDisplay(U:matrix):`\n",
    "\n",
    "reçoit a priori une matrice `U`, mais ne renvoie aucune donnée. Elle permet d'afficher la matrice `U` ligne par ligne en alignant les termes grâce à une tabulation (caractère `\\t`) pour former des colonnes espacées.\n",
    "\n",
    "Avant tout affichage, la fonction vérifie que l'argument `U` est de type `matrix` en utilisant la fonction `isMatrix()`. Si ce n'est pas le cas, la fonction affiche uniquement \"L'argument de la fonction n'est pas une matrice.\", puis elle s'interrompt."
   ]
  },
  {
   "cell_type": "code",
   "execution_count": 9,
   "metadata": {},
   "outputs": [],
   "source": [
    "def matrixDisplay(U): # Rem : fonctionne aussi si M n'est pas une matrice\n",
    "    if not isMatrix(U):\n",
    "        print('matrixDisplay -', \"L'argument de la fonction n'est pas une matrice.\")\n",
    "        return\n",
    "    if isMatrix(U):\n",
    "        for l in U:\n",
    "            for e in l:\n",
    "                print(e, end='\\t')\n",
    "            print()\n",
    "        return\n",
    "    print() # Pour rétablir un affichage \"à la ligne\"\n",
    "    # L'absence de return n'est pas une erreur : c'est équivalent à \"return None\""
   ]
  },
  {
   "cell_type": "code",
   "execution_count": 10,
   "metadata": {},
   "outputs": [
    {
     "name": "stdout",
     "output_type": "stream",
     "text": [
      "Avec la matrice [[1, 2], [3, 4]] :\n",
      "1\t2\t\n",
      "3\t4\t\n",
      "Avec la matrice [[1, 2, 3], [4, 5, 6], [7, 8, 9]] :\n",
      "1\t2\t3\t\n",
      "4\t5\t6\t\n",
      "7\t8\t9\t\n",
      "Avec la liste [[10, -3, 0], [3, 4]] :\n",
      "matrixDisplay - L'argument de la fonction n'est pas une matrice.\n",
      "Avec la liste [[10, -3, 0], [3, 4], 5] :\n",
      "matrixDisplay - L'argument de la fonction n'est pas une matrice.\n"
     ]
    }
   ],
   "source": [
    "# Essais de matrixDisplay()\n",
    "M1 = [[1, 2], [3, 4]]\n",
    "print('Avec la matrice', M1, ':')\n",
    "matrixDisplay(M1)\n",
    "M2 = [[1, 2, 3], [4, 5, 6], [7, 8, 9]]\n",
    "print('Avec la matrice', M2, ':')\n",
    "matrixDisplay(M2)\n",
    "lst1 = [[10, -3, 0], [3, 4]]\n",
    "print('Avec la liste', lst1, ':')\n",
    "matrixDisplay(lst1)\n",
    "lst2 = [[10, -3, 0], [3, 4], 5]\n",
    "print('Avec la liste', lst2, ':')\n",
    "matrixDisplay(lst2)"
   ]
  },
  {
   "cell_type": "markdown",
   "metadata": {
    "tags": []
   },
   "source": [
    "### Fonction de vérification qu'une matrice est carrée\n",
    "\n",
    "La fonction dont le protype est le suivant :\n",
    "\n",
    "`def isMatrixSquare(U:matrix) -> bool:`\n",
    "\n",
    "renvoit `True` si est utilisée dans le script de cette fonction.\n",
    "\n",
    "La fonction de protype :\n",
    "\n",
    "`def isMatrix(U:list of list) -> bool:`\n",
    "\n",
    "renvoit `True` si `U` est une matrice carré et `False` sinon.\n",
    "\n",
    "Un script (possible) et très condensé de cette fonction est le suivant :"
   ]
  },
  {
   "cell_type": "code",
   "execution_count": 11,
   "metadata": {},
   "outputs": [],
   "source": [
    "def isMatrixSquare(U): # Version très condensée\n",
    "    return len(U) == len(U[0]) and isMatrix(U)"
   ]
  },
  {
   "cell_type": "code",
   "execution_count": 12,
   "metadata": {},
   "outputs": [
    {
     "name": "stdout",
     "output_type": "stream",
     "text": [
      "[[10, -3, 0], [3, 4]] carrée ? False\n",
      "[[1, 2], [3, 4]] carrée ? True\n",
      "[[10, -3, 0], [3, 4, 1]] carrée ? False\n",
      "[[1, 2], 3, 4] carrée ? False\n",
      "[[10]] carrée ? True\n"
     ]
    }
   ],
   "source": [
    "# Essais isMatrixSquare() (illustrations)\n",
    "lst = [[10, -3, 0], [3, 4]]\n",
    "print(lst, 'carrée ?', isMatrixSquare(lst)) # Renvoie False\n",
    "M1 = [[1, 2], [3, 4]]\n",
    "print(M1, 'carrée ?', isMatrixSquare(M1)) # Renvoie True\n",
    "M2 = [[10, -3, 0], [3, 4, 1]]\n",
    "print(M2, 'carrée ?', isMatrixSquare(M2)) # Renvoie False\n",
    "M3 = [[1, 2], 3, 4]\n",
    "print(M3, 'carrée ?', isMatrixSquare(M3)) # Renvoie False\n",
    "M4 = [[10]]\n",
    "print(M4, 'carrée ?', isMatrixSquare(M4)) # Renvoie True"
   ]
  },
  {
   "cell_type": "markdown",
   "metadata": {},
   "source": [
    "###  Fonction de transposition de matrice\n",
    "La fonction de protype :\n",
    "\n",
    "`def matrixTranspose(U:matrix) -> matrix:`\n",
    "\n",
    "renvoit la matrice transposée de `U` et `None` si l'argument n'est pas une matrice en employant la fonction `isMatrix()` dans le script de cette fonction.\n",
    "\n",
    "Un script (possible) et très condensé de cette fonction est le suivant :"
   ]
  },
  {
   "cell_type": "code",
   "execution_count": 13,
   "metadata": {},
   "outputs": [],
   "source": [
    "def matrixTranspose(U):\n",
    "    if not isMatrix(U): # Vérifications\n",
    "        print('Transpose -', U, \"L'argument de la fonction n'est pas une matrice.\") # Facultatif\n",
    "        return\n",
    "    Ut = [] # Création de la matrice transposée (nouvelle liste)\n",
    "    V = list(U) # Duplication de l'argument avant traitements car il est global\n",
    "    if not isMatrixSquare(V): # Si matrice rectangulaire\n",
    "        for j in range(len(V[0])): # Scrutation des indices de colonnes\n",
    "            lgn = [] # Initialisation de la ligne courante\n",
    "            for i in range(len(V)): # Remplissage...\n",
    "                lgn.append(V[i][j]) # ... de la ligne courante\n",
    "            Ut.append(lgn) # Ajout de la ligne courante à la transposée en cours\n",
    "    else: # Si matrice carrée\n",
    "        Ut = list(U) # Duplication de l'argument (avec écrasement de Ut vide)\n",
    "        for i in range(len(Ut)): # Scrutation des indices de lignes\n",
    "            for j in range(i, len(Ut)): # Scrutation des indices de colonnes non déjà traités\n",
    "                Ut[i][j], Ut[j][i] = Ut[j][i], Ut[i][j] # Echanges % diagonale\n",
    "    return Ut # Pas nécessaire avec les matrices qui sont des listes, donc globales"
   ]
  },
  {
   "cell_type": "code",
   "execution_count": 14,
   "metadata": {},
   "outputs": [
    {
     "name": "stdout",
     "output_type": "stream",
     "text": [
      "La transposée de [[1, 2], [3, 4]] est : [[1, 3], [2, 4]]\n",
      "La transposée de [[10, -3, 0], [3, 4, 1]] est : [[10, 3], [-3, 4], [0, 1]]\n",
      "La transposée de [[0, 1, 2, 3, 4, 5]] est : [[0], [1], [2], [3], [4], [5]]\n",
      "La transposée de [[0], [1], [2], [3], [4], [5]] est : [[0, 1, 2, 3, 4, 5]]\n",
      "La transposée de [[10, 11, 12], [13, 14, 15], [16, 17, 18]] est : [[10, 13, 16], [11, 14, 17], [12, 15, 18]]\n"
     ]
    }
   ],
   "source": [
    "# Essais de matrixTranspose() (illustrations)\n",
    "M1 = [[1, 2], [3, 4]]\n",
    "print('La transposée de', M1, end=' ')\n",
    "print('est :', matrixTranspose(M1)) # Renvoie [[1, 3], [2, 4]]\n",
    "M2 = [[10, -3, 0], [3, 4, 1]]\n",
    "print('La transposée de', M2, end=' ')\n",
    "print('est :', matrixTranspose(M2)) # Renvoie [[10, 3], [-3, 4], [0, 1]]\n",
    "M3 = [list(range(6))]\n",
    "print('La transposée de', M3, end=' ')\n",
    "print('est :', matrixTranspose(M3)) # Renvoie [[0], [1], [2], [3], [4], [5]]\n",
    "M4 = matrixTranspose(M3)\n",
    "print('La transposée de', M4, end=' ')\n",
    "print('est :', matrixTranspose(M4)) # Renvoie [0, 1, 2, 3, 4, 5]\n",
    "M5 = [[10, 11, 12], [13, 14, 15], [16, 17, 18]]\n",
    "print('La transposée de', M5, end=' ')\n",
    "print( 'est :', matrixTranspose(M5)) # Renvoie ...."
   ]
  },
  {
   "cell_type": "markdown",
   "metadata": {
    "tags": []
   },
   "source": [
    "# I. Analyse de graphes à partir d'exemples\n",
    "## I.1 Présentation des graphes exemples\n",
    "Pour mener les études qui vont suivre, et en particulier pour vérifier la bonne excution des fonctions à construire, nous utiliserons quatre graphes (notés `G` pour **G**raphe) dont les noms sont explicites : deux sont orientés (repère `o` pour **o**rienté) et les deux autres ne le sont pas (repère `no` pour **n**on-**o**rienté). Pour gérer ces graphes de natures différentes, les sommets seront repérés de deux manières :\n",
    "1. avec des identifiants **num**ériques (repères `Num`) ;\n",
    "2. avec des identifiants **alph**anumériques (repères `Alpha`) utilisant des chaînes de caractères.\n",
    "\n",
    "Dans le cas d'identifiants numériques, des listes et des matrices (listes de listes) seront employées pour coder les graphes. Dans l'autre cas (alphanumérique), une nouvelle structure de données plus appropriée sera présentée et mise enoeuvre : les **dictionnaires**.\n",
    "\n",
    "Les quatres graphes sont illustrés et nommés sur la figure 2.\n",
    "\n",
    "<center><img src=\"illustrations/fig02_4graphes.pdf\"><br>\n",
    "Figure 2 – Les quatre graphes employés.</center> "
   ]
  },
  {
   "cell_type": "markdown",
   "metadata": {},
   "source": [
    "\n",
    "\n"
   ]
  },
  {
   "cell_type": "markdown",
   "metadata": {
    "tags": []
   },
   "source": [
    "## I.2 Représentation, codage et traitements des graphes non-orientés\n",
    "Nous allons construire les objets Python en mesure de représenter les 4 graphes.\n",
    "\n",
    "Pour représenter un graphe, nous allons utiliser un premier moyen qui exprime les relations entre les sommets.\n",
    "\n",
    "### I.2.1 Usage d'une liste\n",
    ">**Définition**\n",
    ">\n",
    ">Une **liste d'adjacence** (notée `La`) est une liste dont chaque élément repéré par son index est la liste de ses voisins (i.e. les sommets qui lui sont liés par une arête).\n",
    ">Puisque les index sont numériques (type `int`), cette liste décrit des graphes dont les sommets sont numériques.\n",
    ">Même si ce n'est pas une obligation, il est préférable d'indiquer le numéro des sommets dans l'ordre croissant, appelé l'**ordre des sommets**.\n",
    ">Dans la pratique, pour établir cette liste de listes, procéder de manière systématique en scrutant chaque sommet par ordre croissant pour remplir la liste des numéros de sommet qui lui sont attachés.\n",
    ">\n",
    ">Exemple pour le graphe `GnoNum` :"
   ]
  },
  {
   "cell_type": "code",
   "execution_count": 15,
   "metadata": {},
   "outputs": [],
   "source": [
    "LaGnoNum = [[1, 2, 4], [0, 2], [0, 1, 3, 4], [2, 4], [0, 2, 3]]"
   ]
  },
  {
   "cell_type": "markdown",
   "metadata": {},
   "source": [
    "**Q.1** **Rédiger** la ligne de script permettant d'obtenir l'ordre $n$ du graphe à partir de la liste `LaGnoNum`."
   ]
  },
  {
   "cell_type": "code",
   "execution_count": 16,
   "metadata": {},
   "outputs": [
    {
     "name": "stdout",
     "output_type": "stream",
     "text": [
      "Nombre de sommets du graphe, c'est à dire son ordre est 5.\n"
     ]
    }
   ],
   "source": [
    "# Réponse à Q.1\n",
    "n = len(LaGnoNum) # Cette longueur est bien le nombre de sommets\n",
    "print(\"Nombre de sommets du graphe, c'est à dire son ordre est\", str(n)+'.')"
   ]
  },
  {
   "cell_type": "markdown",
   "metadata": {
    "tags": []
   },
   "source": [
    "Si les sommets des graphes ne sont pas repérés par des entiers, mais, par exemple, par des chaînes ce qui est notre cas, il n'est pas possible de s'en servir en tant qu'index de la liste d'adjacence. Pour coder le graphe, nous utilisons un **dictionnaire** où les index sont remplacés par des clés de tyte `str`.\n",
    "\n",
    "### I.2.2 Usage d'un dictionnaire\n",
    "Un **dictionnaire** (de type `dict` en Python) est une collection d’objets qui permet de rassembler des éléments en les identifiant, non par un index (numéro d’ordre) comme dans les listes ou les chaînes de caractères, mais par une clé. Par conséquent, **les dictionnaires ne sont pas des séquences** : ce sont des **objets construits** ou **mapping** (cartographie) qui dont correspondre des valeurs à des objets arbitraires. \n",
    "\n",
    "Par analogie avec un dictionnaire « classique », l’accès à la définition (qui est **la donnée**) d’un mot est obtenue par le mot lui-même (qui est **la clé**).\n",
    "\n",
    "**Dictionnaire vide**\n",
    "\n",
    "À l'instar des listes (`[]`) ou des chaînes (`''`), le dictionnaire vide utilise les délimiteurs accolade ouvrante `{` et fermante `}`pour s’écrire : `{}`\n",
    "\n",
    "Il peut être créé par affectation directe : `DicoVide = {}`\n",
    "\n",
    "La création par affectation peut aussi utiliser la fonction de conversion `dict()` : `DicoVide = dict()`\n",
    "\n",
    "**Remarques sur les dictionnaires**\n",
    "\n",
    "Les clés d’un dictionnaire sont quasiment arbitraires, **sans être pour autant des listes** ou d’**autres dictionnaires**. Mais les chaînes de caractères s'y prêtent très bien. C'est heureux, car, dans notre cas, nous avons besoin de chaînes pour décrire le graphe `GnoAlpha`.\n",
    "\n",
    "Il est courant d’utiliser les types numériques pour les clés (pour pouvoir effectuer des comparaisons). C'est favorable avec des entiers qui sont codés de manière stricte, mais c'est imprudent avec les flottants car il existe des disparités dans la représentation des valeurs. **L'usage de clés flottantes est donc à proscrire**. \n",
    "\n",
    "**Création d'un dictionnaire**\n",
    "\n",
    "Un dictionnaire est construit en plaçant entre accolades un ensemble d'associations de la forme « clé: valeur » (séparateur `:`) en séparant ces groupements par des virgules :\n",
    "`monDico = {cle1: valeur1, cle2: valeur3, cle3: valeur3,...}`\n",
    "\n",
    "**Q.2** **Donner** le script permettant de définir le dictionnaire d'adjacence nommé `DaGnoAlpha` du graphe `GnoAlpha`, puis de l'afficher, ainsi que son ordre."
   ]
  },
  {
   "cell_type": "code",
   "execution_count": 17,
   "metadata": {},
   "outputs": [],
   "source": [
    "# Réponse à Q.2\n",
    "DaGnoAlpha = {\"Paris\": [\"Lyon\", \"Lille\", \"Strasbourg\", \"Bordeaux\"], \"Lyon\": [\"Lille\", \"Paris\"], \"Lille\":  [\"Strasbourg\", \"Paris\", \"Lyon\"],\n",
    "              \"Strasbourg\": [\"Bordeaux\", \"Paris\", \"Lille\"], \"Bordeaux\": [\"Paris\", \"Strasbourg\"]}\n",
    "# Remarquer que si un dictionnaire est défini sur plus d'une ligne, la deuxième est alignée sur `{`.\n",
    "# Pour une liste, l'alignement serait sur `[`."
   ]
  },
  {
   "cell_type": "code",
   "execution_count": 18,
   "metadata": {},
   "outputs": [
    {
     "name": "stdout",
     "output_type": "stream",
     "text": [
      "{'Paris': ['Lyon', 'Lille', 'Strasbourg', 'Bordeaux'], 'Lyon': ['Lille', 'Paris'], 'Lille': ['Strasbourg', 'Paris', 'Lyon'], 'Strasbourg': ['Bordeaux', 'Paris', 'Lille'], 'Bordeaux': ['Paris', 'Strasbourg']} ,\n",
      "le dictionnaire représentant le graphe d'ordre 5\n"
     ]
    }
   ],
   "source": [
    "# Affichage de DaGnoAlpha\n",
    "print(DaGnoAlpha, \",\\nle dictionnaire représentant le graphe d'ordre\", len(DaGnoAlpha))"
   ]
  },
  {
   "cell_type": "markdown",
   "metadata": {},
   "source": [
    "Grâce à cette nouvelle organisation, nous n'avons plus recours à une représentation numérique des sommets, ils utilisent uniquement leur nom pour montrer les interactions entre eux. Cependant, si les nombres qui sont concis ne servent plus d'intermédiaires, c'est au prix d'un nombre de caractères plus important, mais plus « parlant ».\n",
    "\n",
    "### I.2.3 Usage de matrices \n",
    "Il est possible de développer la représentation d'un graphe en utilisant des matrices :\n",
    "1. Avec une matrice qui indique les sommets en relation, pour préciser l'**adjacence des sommets** ;\n",
    "2. Avec une matrice qui indique les arêtes incidentes avec certains sommets, ce qui précise l'**incidence des arêtes**.\n",
    "\n",
    "#### I.2.3.1 Matrice d'adjacence\n",
    "Un graphe peut être représenté par sa **matrice d'adjacence**.\n",
    "\n",
    ">**Définition**\n",
    ">\n",
    ">La **matrice d'adjacence** (notée `Ma`) d'un graphe fini disposant de $n$ sommets est une matrice de dimension $n \\times n$ dont l'élément $(Ma_{ij})$ est le nombre d'arêtes liant le sommet $i$ au sommet $j$.\n",
    "\n",
    "**Remarques**\n",
    "- Pour des graphes simples, orientés ou pas, un élément de la matrice d'adjacence vaut toujours 0 ou 1.\n",
    "- La matrice d'adjacence d'un graphe est unique. Par conséquent à deux matrices d'adjacence identiques correspondent deux graphes identiques, et réciproquement.\n",
    "- La matrice d'adjacence d'un graphe non-orienté est symétrique (mais ce n'est pas le cas pour un graphe orienté).\n",
    "- Un élément diagonal $a_{ii}$ précise le nombre de boucles du sommet $i$, mais pour les graphes simples, comme il n'y a pas de boucle, $a_{ii}$ vaut systématiquement `1`.\n",
    "\n",
    "En guise d'application, nous allons coder le graphe `GnoNum` en Python avec une liste de listes (une matrice), puis un tableau `NumPy` (`array`)."
   ]
  },
  {
   "cell_type": "markdown",
   "metadata": {},
   "source": [
    "**Q.3** **Écrire** sur feuille la matrice d'adjacence `MaGnoNum` du graphe `GnoNum`.\n",
    "\n",
    "> $$MaGnoNum=\n",
    "\\begin{pmatrix}\n",
    "   0 & 1 & 1 & 0 & 1 \\\\\n",
    "   1 & 0 & 1 & 0 & 0 \\\\\n",
    "   1 & 1 & 0 & 1 & 1 \\\\\n",
    "   0 & 0 & 1 & 1 & 1 \\\\\n",
    "   1 & 0 & 1 & 1 & 0\n",
    "\\end{pmatrix}$$\n",
    "\n",
    "**Remarque**\n",
    "- La matrice d'adjacence d'un graphe non-orientée est toujours symétrique.\n",
    "\n",
    "**Q.4** Pourquoi ne code-t-on pas aussi le graphe `GnoAlpha` avec ce genre de matrice ? Quelle adaptation réaliser pour le faire malgré tout ?\n",
    "> Le graphe `GnoAlpha` contient des sommets non numériques nommés par des chaînes de caractères. Pour le coder, il faut un objet Python en mesure d'accéder aux données, les arêtes, avec des identifiants non-numériques **comme le permet un dictionnaire**.\n",
    "> Si toutefois, nous voulons avoir recours à des identifiants numériques, il faut construire une table de correspondance telle que celle-ci :\n",
    ">\n",
    ">| Nom du sommet<br/>(chaîne de caractères) | Repère numérique<br/>associé |\n",
    ">|---------------|:--------------------------:|\n",
    ">| 'Lille'  | 0 | \n",
    ">| 'Lyon' | 1 |\n",
    ">| 'Paris' | 2 |\n",
    ">| 'Bordeaux' | 3 | \n",
    ">| 'Strasbourg' | 4 |\n"
   ]
  },
  {
   "cell_type": "markdown",
   "metadata": {},
   "source": [
    "#### I.2.3.2 Matrice d'incidence\n",
    "Un graphe peut aussi être représenté par sa **matrice d'incidence**.\n",
    "\n",
    ">**Définition**\n",
    ">\n",
    ">La **matrice d'incidence** (notée `Mi`) d'un graphe fini comprenant $n$ sommets et $m$ arêtes est une matrice de dimension $n \\times m$ (rappel : lignes X colonnes) dont l'élément $mi_{ij}$ est le nombre d'incidences entre le sommet $i$ et l'arête $j$.\n",
    "\n",
    "Ainsi :\n",
    "- Pour des graphes simples non-orientés, un élément de la matrice d'adjacence vaut toujours 0 ou 1.\n",
    "- La matrice d'incidence d'un graphe est unique. Par conséquent à deux matrices d'indidence identiques correspondent deux graphes identiques, et réciproquement."
   ]
  },
  {
   "cell_type": "markdown",
   "metadata": {},
   "source": [
    "**Q.5** **Écrire** sur feuille la matrice d'incidence `MiGnoNum` du graphe `GnoNum`.\n",
    "\n",
    "> $$MiGnoNum=\n",
    "  \\begin{pmatrix}\n",
    "   1 & 0 & 0 & 0 & 1 & 1 & 0 \\\\\n",
    "   1 & 1 & 0 & 0 & 0 & 0 & 0 \\\\\n",
    "   0 & 1 & 1 & 0 & 0 & 1 & 1 \\\\\n",
    "   0 & 0 & 1 & 1 & 0 & 0 & 0 \\\\\n",
    "   0 & 0 & 0 & 1 & 1 & 0 & 1\n",
    "\\end{pmatrix}$$\n",
    "\n",
    "**Remarque**\n",
    "- Nous pouvons constater que la somme des termes de chaque colonne de la matrice d'adjacence d'un graphe non-orientée vaut deux car une colonne code une arête comportant toujours deux extrémités (pour un graphe simple, mais pas pour un multigraphe)."
   ]
  },
  {
   "cell_type": "markdown",
   "metadata": {},
   "source": [
    "**Bilan**\n",
    "\n",
    "Pour achever cette partie, les représentations des graphes au travers de listes et de matrices serviront par la suite à contrôler le bon comportement des fonctions élaboréesq en fournissant des résultats fonformes"
   ]
  },
  {
   "cell_type": "markdown",
   "metadata": {
    "tags": []
   },
   "source": [
    "### I.2.4 Fonctions de traitement des graphes non-orientés\n",
    "\n",
    "Les traitements des graphes non-orientés abordés ici utilisent leur représentation par les listes et les matrices définies. ce sera aussi l'occasion d'utiliser `NumPy`, mais moins des dictionnaires.\n",
    "\n",
    "#### I.2.4.1 liste d'adjacence vs. matrice d'adjacence\n",
    "\n",
    "**Q.6** **Créer** un script de la fonction dont le protype est :\n",
    "\n",
    "`def La2Ma(La: list of list) -> matrix:`\n",
    "\n",
    "recevant la liste d'adjacence `La` d'un graphe non-orienté et renvoyant la matrice d'adjacence. Cette fonction ne doit permettre aucun affichage. Si, pour une raison quelconque, la conversion n'est pas possible, la fonction renverra `None`.\n",
    "\n",
    "**Indications de conception** pour deux méthodes appelées V1 ou V2)"
   ]
  },
  {
   "cell_type": "raw",
   "metadata": {},
   "source": [
    "Initialiser la matrice \"Ma\" carrée (V1 - vide ([]) ou V2 - pleine de '0')\n",
    "Scruter (\"for\" d'indice \"i\") les lignes\n",
    "   Initialiser ligne de \"0\" (V1), rien pour V2\n",
    "   Scruter (\"for\" d'indice \"j\") la liste des colonnes pour obtenir chaque indice \"j\" de celles où placer \"1\"\n",
    "     Remplacer le \"0\" de la colonne \"j\" par \"1\" dans la ligne en cours (V1) et dans \"Ma\" (V2)\n",
    "   Ajouter ligne terminée à \"Ma\" (V1), rien pour (V2)\n",
    "Renvoyer \"Ma\""
   ]
  },
  {
   "cell_type": "code",
   "execution_count": 19,
   "metadata": {},
   "outputs": [],
   "source": [
    "# Réponse(s) Q.6\n",
    "def La2Ma(La): # V1 - Conversion d'une liste d'adjacence d'un graphe non-orienté en matrice d'adjacence\n",
    "    \"\"\"CE : aL = liste d'adjacence du graphe G (rappel : 1 seule Ma pour un graphe donné).\n",
    "    CS : matrice d'adjacence du graphe.\n",
    "    Conversion d'une liste d'adjacence en sa matrice d'adjacence avec méthode append.\"\"\"\n",
    "    if not (len(La) != len(La[0])): # Vérif. mat non carrée\n",
    "        return # Ce n'est pas une matrice d'adjacence\n",
    "    n = len(La) # n = nbre de sommets du graphe\n",
    "    Ma = [] # Initialisation matrice d'adjacence\n",
    "    for i in range(n): # Scrutation lignes\n",
    "        MaLine = [0]*n # initialisation ligne de Gmat\n",
    "        for j in La[i]: # Scrutation colonnes\n",
    "            MaLine[j] = 1 # Positionnement des sommets\n",
    "        Ma.append(MaLine)        \n",
    "    return Ma\n",
    "\n",
    "def La2Ma2(La): # V2 - Conversion d'une liste d'adjacence d'un graphe non-orienté en matrice d'adjacence\n",
    "    \"\"\"CE : aL = liste d'adjacence du graphe G (rappel : 1 seule Ma pour un graphe donné).\n",
    "    CS : matrice d'adjacence du graphe.\n",
    "    Conversion d'une liste d'adjacence en sa matrice d'adjacence par substitution de 0 en 1.\"\"\"\n",
    "    if not (len(La) != len(La[0])): # Vérif. mat non carrée\n",
    "        return # Ce n'est pas une matrice d'adjacence\n",
    "    n = len(La) # n = nbre de sommets du graphe\n",
    "    Ma = [[0]*n for k in range(n)] # Initialisation matrice d'adjacence \n",
    "    for i in range(n): # Scrutation de lignes\n",
    "        for j in La[i]: # Scrutation indices de colonnes\n",
    "            Ma[i][j] = 1 # Positionnement du sommet en colonne j\n",
    "    return Ma"
   ]
  },
  {
   "cell_type": "markdown",
   "metadata": {
    "tags": []
   },
   "source": [
    "**Q.7** **Rédiger** un script, **sans définir de fonction**, qui s'applique au cas de la liste `LaGnoNum` du §I.2.1 pour afficher le résultat avec `matrixDisplay()` et avec la fonction `array()` de `NumPy` (prévoir l'importation du module)."
   ]
  },
  {
   "cell_type": "code",
   "execution_count": 20,
   "metadata": {},
   "outputs": [
    {
     "name": "stdout",
     "output_type": "stream",
     "text": [
      "Pour la liste d'adjacence : [[1, 2, 4], [0, 2], [0, 1, 3, 4], [2, 4], [0, 2, 3]]\n",
      "V1 - La matrice d'adjacence est :\n",
      "0\t1\t1\t0\t1\t\n",
      "1\t0\t1\t0\t0\t\n",
      "1\t1\t0\t1\t1\t\n",
      "0\t0\t1\t0\t1\t\n",
      "1\t0\t1\t1\t0\t\n",
      "V2 - La matrice d'adjacence est :\n",
      "0\t1\t1\t0\t1\t\n",
      "1\t0\t1\t0\t0\t\n",
      "1\t1\t0\t1\t1\t\n",
      "0\t0\t1\t0\t1\t\n",
      "1\t0\t1\t1\t0\t\n",
      "Avec NumPy, la matrice d'adjacence apparaît comme ceci :\n",
      "[[0 1 1 0 1]\n",
      " [1 0 1 0 0]\n",
      " [1 1 0 1 1]\n",
      " [0 0 1 0 1]\n",
      " [1 0 1 1 0]]\n"
     ]
    }
   ],
   "source": [
    "# Réponse Q.7 : mise en oeuvre de La2Ma() et La2Ma2() pour vérification\n",
    "print('Pour la liste d\\'adjacence :', LaGnoNum)\n",
    "print('V1 - La matrice d\\'adjacence est :')\n",
    "matrixDisplay(La2Ma(LaGnoNum))\n",
    "Ma = La2Ma2(LaGnoNum)\n",
    "print('V2 - La matrice d\\'adjacence est :')\n",
    "matrixDisplay(Ma)\n",
    "print('Avec NumPy, la matrice d\\'adjacence apparaît comme ceci :')\n",
    "import numpy as np\n",
    "print(np.array(Ma))"
   ]
  },
  {
   "cell_type": "markdown",
   "metadata": {},
   "source": [
    "#### I.2.4.2 liste et matrice d'adjacence vs. liste des arêtes\n",
    "**Q.8** **Créer** un script de la fonction dont le protype est :\n",
    "\n",
    "`def La2Le(La: list of list) -> list of list:`\n",
    "\n",
    "recevant la liste d'adjacence `La` d'un graphe non-orienté et renvoyant la liste de ses arêtes. Pour rappel une arête est une liste à deux éléments contenant les numéros de ses sommets extrémités. Cette fonction ne doit permettre aucun affichage. Si, pour une raison quelconque, la conversion n'est pas possible, la fonction renverra `None`.\n",
    "\n",
    "**Compléter** à la suite par un script de quelques lignes permettant de vérifier cette fonction comme à la question Q.7 (pour des listes, `Numpy`. n'est pas utile ici)."
   ]
  },
  {
   "cell_type": "code",
   "execution_count": 21,
   "metadata": {},
   "outputs": [],
   "source": [
    "# Réponse Q.8\n",
    "def La2Le(La): # Construction de la liste des arêtes Le à partir de la liste d'adjacence La d'un graphe non-orienté\n",
    "    \"\"\"CE : La = Liste d'adjacence d'un graphe non-orienté (rappel : 1 seule liste d'adjacence pour un graphe donné).\n",
    "    CS : Liste des arêtes du graphe.\n",
    "    Conversion d'une liste d'adjacence d'un graphe en sa liste des arêtes.\"\"\"\n",
    "    if not (type(La) == list and type(La[0]) == list): # aLst = liste d'adj correctement formée ?\n",
    "        return \n",
    "    n = len(La) # n = nbre de sommets du graphe\n",
    "    Le = [] # Initialisation de la liste des arêtes\n",
    "    for i in range(n): # Scrutation sommets\n",
    "        for j in La[i]: # Scrutation  des indices des sommets adjacents du sommet i\n",
    "            if j >= i: # > Pour éviter les doublons et = pour inclure la diagonale (boucles) = triangle inf.\n",
    "                Le.append([i, j]) # Ajoute l'arête\n",
    "    return Le"
   ]
  },
  {
   "cell_type": "code",
   "execution_count": 22,
   "metadata": {},
   "outputs": [
    {
     "name": "stdout",
     "output_type": "stream",
     "text": [
      "Pour la liste d'adjacence du graphe non-orienté : [[1, 2, 4], [0, 2], [0, 1, 3, 4], [2, 4], [0, 2, 3]]\n",
      "La liste des arêtes obtenue est : [[0, 1], [0, 2], [0, 4], [1, 2], [2, 3], [2, 4], [3, 4]]\n"
     ]
    }
   ],
   "source": [
    "# Mise en oeuvre de La2Le() pour vérification\n",
    "print('Pour la liste d\\'adjacence du graphe non-orienté :', LaGnoNum)\n",
    "print('La liste des arêtes obtenue est :', La2Le(LaGnoNum))"
   ]
  },
  {
   "cell_type": "markdown",
   "metadata": {},
   "source": [
    "Une alternative consiste à partir de la matrice d'adjacence pour construire la liste des arêtes.\n",
    "\n",
    "**Q.9** **Créer** un script de la fonction dont le protype est :\n",
    "\n",
    "`def Ma2Le(Ma: matrix) -> list of list:`\n",
    "\n",
    "recevant la matrice d'adjacence `Ma` d'un graphe non-orienté et renvoyant la liste de ses arêtes. Cette fonction ne doit permettre aucun affichage. Si, pour une raison quelconque, la conversion n'est pas possible, la fonction renverra `None`.\n",
    "\n",
    "**Compléter** par un script de quelques lignes permettant de vérifier cette fonction."
   ]
  },
  {
   "cell_type": "code",
   "execution_count": 23,
   "metadata": {},
   "outputs": [],
   "source": [
    "# Réponse Q.9\n",
    "def Ma2Le(Ma): # Construction de la liste des arêtes (Le) à partir de la matrice d'adjacence Ma\n",
    "    \"\"\"CE : Matrice d'adjacence Ma d'un graphe non-orienté (rappel : 1 seule Ma pour un graphe donné).\n",
    "    CS : Liste des arêtes du graphe.\n",
    "    Conversion d'une matrice d'adjacence d'un graphe en sa liste des arêtes.\"\"\"\n",
    "    if not isMatrix(Ma) or len(Ma) != len(Ma[0]): # Ma = matrice correctement formée\n",
    "        return\n",
    "    n = len(Ma) # n = nbre de sommets du graphe\n",
    "    Le = [] # Initialisation de la liste des arêtes\n",
    "    for i in range(n): # Scrutation lignes\n",
    "        for j in range(i, n): # Scrutation des colonnes au delà de i pour éviter les doublons\n",
    "            if Ma[i][j]: # Test d'adjacence (1 == Vrai)\n",
    "                Le.append([i, j]) # Ajoute l'arête\n",
    "    return Le"
   ]
  },
  {
   "cell_type": "code",
   "execution_count": 24,
   "metadata": {},
   "outputs": [
    {
     "name": "stdout",
     "output_type": "stream",
     "text": [
      "Pour la matrice d'adjacence du graphe non-orienté :\n",
      "0\t1\t1\t0\t1\t\n",
      "1\t0\t1\t0\t0\t\n",
      "1\t1\t0\t1\t1\t\n",
      "0\t0\t1\t0\t1\t\n",
      "1\t0\t1\t1\t0\t\n",
      "La liste des arêtes est : [[0, 1], [0, 2], [0, 4], [1, 2], [2, 3], [2, 4], [3, 4]]\n"
     ]
    }
   ],
   "source": [
    "# Mise en oeuvre de Ma2Le() pour vérification\n",
    "print('Pour la matrice d\\'adjacence du graphe non-orienté :')\n",
    "Ma = La2Ma(LaGnoNum)\n",
    "matrixDisplay(Ma)\n",
    "print('La liste des arêtes est :', Ma2Le(Ma))"
   ]
  },
  {
   "cell_type": "markdown",
   "metadata": {},
   "source": [
    "#### I.2.4.3 Construction de la matrice d’incidence\n",
    "La matrice d'incidence d'un graphe non-orienté peut être obtenue de différentes manières :\n",
    "- à partir de la liste des sommets (La) et des arêtes du graphe (Le) qui constitue la méthode la plus simple ;\n",
    "- à partir de la seule liste des sommets ou des arêtes du graphe, ce qui nécessite de reconstituer les deux entrées de la matrice (sommets et arêtes) ; \n",
    "- à partir de la matrice d'adjacence.\n",
    "\n",
    "Puisque la fonction `La2Ma()` permet de construire la matrice d'adjacence, nous n'utiliserons que cette seule matrice comme source pour établir la matrice d'incidence. Rien n'exclue de traiter les deux autres fonctions (La & Le -> Mi et La|Le -> Mi).\n",
    "\n",
    "**Q.10** **Créer** un script pour chacune des fonctions définies ci-dessous :\n",
    "\n",
    "`def La2Mi(La: list of list) -> matrix:`\n",
    "\n",
    "recevant la liste d'adjacence `La` d'un graphe non-orienté et renvoyant sa matrice d'incidence.\n",
    "\n",
    "`def Ma2Mi(Ma: matrix) -> matrix:`\n",
    "\n",
    "recevant la matrice d'adjacence `Ma` d'un graphe non-orienté et renvoyant sa matrice d'incidence. L'usage de la fonction `Ma2Le()` sera à considérer.\n",
    "\n",
    "Dans les deux cas, les fonctions ne doivent permettre aucun affichage. Si, pour une raison quelconque, la conversion n'est pas possible, les fonction renverront `None`.\n",
    "\n",
    "**Compléter** par un script de quelques lignes permettant de vérifier ces fonctions en favorisant l'usage de `NumPy`."
   ]
  },
  {
   "cell_type": "code",
   "execution_count": 25,
   "metadata": {
    "tags": []
   },
   "outputs": [],
   "source": [
    "# Réponse Q.10\n",
    "def La2Mi(La): # Conversion d'une liste d'adjacence d'un graphe non-orienté en sa matrice d'incidence\n",
    "    \"\"\"CE : La = liste d'adjacence du graphe non-orienté (rappel : 1 seule Ma pour un graphe donné).\n",
    "    CS : matrice d'incidence du graphe.\n",
    "    Conversion de la liste d'adjacence d'un graphe non-orienté en sa matrice d'incidence avec méthode append.\"\"\"\n",
    "    Le = La2Le(La) # Liste des arêtes du graphe\n",
    "    n, m = len(La), len(Le) # n = nbre de sommets du graphe, m = nbre d'arêtes\n",
    "    Mi = [] # Initialisation matrice d'incidence\n",
    "    for i in range(n): # Scrutation lignes de Ma\n",
    "        MiLine = [0]*m # initialisation ligne de Mi\n",
    "        for j in range(m): # Scrutation colonnes de Mi\n",
    "            if i in Le[j]: # Test d'incidence\n",
    "                MiLine[j] = 1     \n",
    "        Mi.append(MiLine) # Ajout à Mi de la ligne construite \n",
    "    return Mi\n",
    "\n",
    "def Ma2Mi(Ma): # Conversion d'une matrice d'adjacence d'un graphe non-orienté en sa matrice d'incidence\n",
    "    \"\"\"CE : Ma = matrice d'adjacence du graphe non-orienté (rappel : 1 seule Ma pour un graphe donné).\n",
    "    CS : matrice d'incidence du graphe.\n",
    "    Conversion de la matrice d'adjacence d'un graphe non-orienté en sa matrice d'incidence avec méthode append.\"\"\"\n",
    "    Le = Ma2Le(Ma) # Liste des arêtes du graphe\n",
    "    n, m = len(Ma), len(Le) # n = nbre de sommets du graphe, m = nbre d'arêtes\n",
    "    Mi = [] # Initialisation matrice d'incidence\n",
    "    for i in range(n): # Scrutation lignes de Ma\n",
    "        MiLine = [0]*m # initialisation ligne de Mi\n",
    "        for j in range(m): # Scrutation colonnes de Mi\n",
    "            if i in Le[j]: # Test d'incidence\n",
    "                MiLine[j] = 1     \n",
    "        Mi.append(MiLine) # Ajout à Mi de la ligne construite \n",
    "    return Mi"
   ]
  },
  {
   "cell_type": "code",
   "execution_count": 26,
   "metadata": {},
   "outputs": [
    {
     "name": "stdout",
     "output_type": "stream",
     "text": [
      "Pour la liste d'adjacence (graphe non-orienté) : [[1, 2, 4], [0, 2], [0, 1, 3, 4], [2, 4], [0, 2, 3]]\n",
      "La matrice d'incidence est :\n",
      "[[1 1 1 0 0 0 0]\n",
      " [1 0 0 1 0 0 0]\n",
      " [0 1 0 1 1 1 0]\n",
      " [0 0 0 0 1 0 1]\n",
      " [0 0 1 0 0 1 1]]\n",
      "Pour la matrice d'adjacence (graphe non-orienté) :\n",
      "[[0 1 1 0 1]\n",
      " [1 0 1 0 0]\n",
      " [1 1 0 1 1]\n",
      " [0 0 1 0 1]\n",
      " [1 0 1 1 0]]\n",
      "La matrice d'incidence est :\n",
      "[[1 1 1 0 0 0 0]\n",
      " [1 0 0 1 0 0 0]\n",
      " [0 1 0 1 1 1 0]\n",
      " [0 0 0 0 1 0 1]\n",
      " [0 0 1 0 0 1 1]]\n",
      "Résultats identiques ? True\n"
     ]
    }
   ],
   "source": [
    "# Mise en oeuvre de La2Mi() et Ma2Mi() pour vérification\n",
    "print('Pour la liste d\\'adjacence (graphe non-orienté) :', LaGnoNum)\n",
    "print('La matrice d\\'incidence est :')\n",
    "Mi1 = La2Mi(LaGnoNum)\n",
    "print(np.array(Mi1))\n",
    "print('Pour la matrice d\\'adjacence (graphe non-orienté) :')\n",
    "Ma = La2Ma(LaGnoNum)\n",
    "print(np.array(Ma))\n",
    "print('La matrice d\\'incidence est :')\n",
    "Mi2 = Ma2Mi(Ma)\n",
    "print(np.array(Mi2))\n",
    "print('Résultats identiques ?', Mi1 == Mi2)"
   ]
  },
  {
   "cell_type": "markdown",
   "metadata": {
    "tags": []
   },
   "source": [
    "### I.2.5 Bilan, conclusion\n",
    "Les trois représentations (liste, dictionnaire et matrice avec un liste de listes ou un tableau `NumPy`) ont des occupations mémoire variables. Les listes et les dictionnaires ne mentionnent que les sommets en relation en eux, tandis que les matrices mentionnent tous les liens possible s en ne sélectionnat (par un 1) ceux qui sont effectifs. Notons d'ailleurs qu'un graphe complet à $n$ sommets comporte $n^2$ arêtes : la **complexité spatiale d'une matrice est donc quadratique**.\n",
    "\n",
    "Nous pouvons conclure en affirmant que la représentation matricielle des graphes est plus gournmande en espace mémoire qu'avec des listes où des dictionnaires. Cependant la lecture des informations dans la matrice d'adjacence est plus simple et directe à appréhender que dans les autres cas où elle apparaît comme codée, donc compressée, pour les deux autres représentations."
   ]
  },
  {
   "cell_type": "markdown",
   "metadata": {
    "tags": []
   },
   "source": [
    "## I.3 Représentation, codage et traitements des graphes orientés\n",
    "Nous étendons maintenant les études précédentes aux graphes orientés.\n",
    "\n",
    "Le plan de cette partie reprend celui du §I.2 pour énoncer les questions relatives à la construction de nouvelle fonctions appliquées à des graphes orientées.\n",
    "\n",
    "Les graphes supports sont maintenant orientés : `GoNum` et `GoAlpha` (`o` à la place de `no`).\n",
    "\n",
    "### I.3.1 Liste d'adjacence\n",
    "Pour un graphe orienté, l'adjacence de deux sommets n'est pas réciproque. Il faut se référer à l'orientation imposée par la flèche comme le précise le § `I.2.1`.\n",
    "\n",
    "Pour le graphe `GoNum` :"
   ]
  },
  {
   "cell_type": "code",
   "execution_count": 32,
   "metadata": {},
   "outputs": [],
   "source": [
    "LaGoNum = [[1, 4], [], [0, 1, 3, 4], [], [3]]"
   ]
  },
  {
   "cell_type": "markdown",
   "metadata": {},
   "source": [
    "Nous pouvons noter que `LaGoNum` contient (naturellement) moins de sommets en relation que `LaGnoNum` : des liens disparaissent en raison de l'orientation des arêtes."
   ]
  },
  {
   "cell_type": "markdown",
   "metadata": {
    "tags": []
   },
   "source": [
    "### I.3.2 Dictionnaire d'adjacence\n",
    "\n",
    "**Q.11** **Donner** le script permettant de définir le dictionnaire d'adjacence nommé `DaGoAlpha` du graphe `GoAlpha`. \n",
    "**Compléter** ce script pour afficher le dictionnaire et l'ordre du graphe."
   ]
  },
  {
   "cell_type": "code",
   "execution_count": 33,
   "metadata": {},
   "outputs": [
    {
     "name": "stdout",
     "output_type": "stream",
     "text": [
      "Le dictionnaire : {'Paris': ['Lyon', 'Lille', 'Strasbourg', 'Bordeaux'], 'Lyon': [], 'Lille': ['Strasbourg', 'Lyon'], 'Strasbourg': ['Bordeaux'], 'Bordeaux': []} \n",
      "correspond à un graphe d'ordre 5\n"
     ]
    }
   ],
   "source": [
    "DaGoAlpha = {\"Paris\": [\"Lyon\", \"Lille\", \"Strasbourg\", \"Bordeaux\"], \"Lyon\": [], \"Lille\":  [\"Strasbourg\", \"Lyon\"],\n",
    "              \"Strasbourg\": [\"Bordeaux\"], \"Bordeaux\": []}\n",
    "print('Le dictionnaire :', DaGoAlpha, \"\\ncorrespond à un graphe d'ordre\",len(DaGoAlpha))"
   ]
  },
  {
   "cell_type": "markdown",
   "metadata": {},
   "source": [
    "### I.3.3 Matrice d'adjacence\n",
    "\n",
    ">**Rappel**\n",
    ">\n",
    ">Nous noterons toujours, de manière générale, `Ma` une matrice d'adjacence et $n$ son nombre de sommets.\n",
    ">\n",
    ">La construction de la matrice d'adjacence s'appuiera toujours sur la liste d'adjacence."
   ]
  },
  {
   "cell_type": "markdown",
   "metadata": {},
   "source": [
    "**Q.12** **Écrire** sur feuille la matrice d'adjacence `MaGoNum` du graphe `GoNum`.\n",
    "\n",
    "> $$MaGoNum=\n",
    "\\begin{pmatrix}\n",
    "   0 & 1 & 0 & 0 & 1 \\\\\n",
    "   0 & 0 & 0 & 0 & 0 \\\\\n",
    "   1 & 1 & 0 & 1 & 1 \\\\\n",
    "   0 & 0 & 0 & 0 & 0 \\\\\n",
    "   0 & 0 & 0 & 1 & 0\n",
    "\\end{pmatrix}$$"
   ]
  },
  {
   "cell_type": "markdown",
   "metadata": {
    "tags": []
   },
   "source": [
    "### I.3.4 Matrice d'incidence\n",
    "\n",
    "Sur la base de la définition du §I.2.3.2, le sens de l'incidence aux sommets influence les coefficients de la matrice :\n",
    "- si une arête arrive sur un sommet, le coefficient est -1 ;\n",
    "- si une arête sort d'un sommet, le coefficient est 1 ;\n",
    "- s'il n'y a pas d'incidence, le coefficient vaut 0.\n",
    "\n",
    "**Q.13** **Écrire** sur feuille la matrice d'incidence `MiGoNum` du graphe `GoNum` (utiliser l'ordre systématique des arêtes).\n",
    "\n",
    "> $$MiGoNum=\n",
    "\\begin{pmatrix}\n",
    "    1 &  1 & -1 &  0 &  0 &  0 &  0 \\\\\n",
    "   -1 &  0 &  0 & -1 &  0 &  0 &  0 \\\\\n",
    "    0 &  0 &  1 &  1 &  1 &  1 &  0 \\\\\n",
    "    0 &  0 &  0 &  0 & -1 &  0 & -1 \\\\\n",
    "    0 & -1 &  0 &  0 &  0 & -1 &  1\n",
    "\\end{pmatrix}$$\n",
    "\n",
    "**Q.14** Quelle remarque peut-on faire concernant la somme des termes d'une colone de $MiGoNum$ ? **Justifier**. En **déduire** un moyen de contrôler la matrice d'incidence d'un graphe orienté. "
   ]
  },
  {
   "cell_type": "markdown",
   "metadata": {},
   "source": [
    ">La somme des termes de chaque colonne de $MiGoNum$ est nulle. Ceci est dû au fait que chaque colonne correspond à une arête composée d'une queue affectée de la veleur 1 et d'une tête affectée de la valeur -1 dont la somme est nulle. Par conséquent, pour **vérifier qu'une matrice d'adjacence est celle d'un graphe orienté**, il faut **vérifier la nullité de la somme de tous les termes de chacune de ses colonnes**."
   ]
  },
  {
   "cell_type": "markdown",
   "metadata": {},
   "source": [
    "### I.3.5 Fonctions de traitement des graphes orientés\n",
    "Pour les traitements des graphes orientés, nous utiliserons le plus possible `NumPy`."
   ]
  },
  {
   "cell_type": "markdown",
   "metadata": {
    "tags": []
   },
   "source": [
    "#### I.3.5.1 Construction de la matrice d'adjacence\n",
    "\n",
    "**Q.15** **Créer** un script de la fonction dont le protype est :\n",
    "\n",
    "`def La2MaO(La: list of list) -> matrix:`\n",
    "\n",
    "recevant la liste d'adjacence `La` d'un graphe orienté et renvoyant la matrice d'adjacence. Cette fonction ne doit permettre aucun affichage. Si, pour une raison quelconque, la conversion n'est pas possible, la fonction renverra `None`.\n",
    "\n",
    "**Remarque** – Noter l'ajout de `O` (l'initiale d'**O**rienté, pas le chiffre zéro) au nom de la fonction traitant d'un graphe non-orienté pour la distinguer."
   ]
  },
  {
   "cell_type": "code",
   "execution_count": 34,
   "metadata": {},
   "outputs": [],
   "source": [
    "# Réponse Q.15\n",
    "def La2MaO(La): # Conversion d'une liste d'adjacence d'un graphe orienté en sa matrice d'adjacence\n",
    "    \"\"\"CE : La = liste d'adjacence du graphe.\n",
    "    CS : matrice d'adjacence du graphe orienté.\n",
    "    Conversion d'une liste d'adjacence en sa matrice d'adjacence par substitution de 0 en 1.\"\"\"\n",
    "    if not (len(La) != len(La[0])): # Vérif. mat non carrée\n",
    "        return None # Ce n'est pas une matrice d'adjacence\n",
    "    n = len(La) # n = nbre de sommets du graphe = ordre du graphe (rappel)\n",
    "    Ma = [[0]*n for k in range(n)] # Initialisation matrice d'adjacence \n",
    "    for i in range(n): # Scrutation de lignes\n",
    "        for j in La[i]: # Scrutation indices de colonnes\n",
    "            Ma[i][j] = 1 # Positionnement du sommet en colonne j\n",
    "    return Ma"
   ]
  },
  {
   "cell_type": "markdown",
   "metadata": {
    "tags": []
   },
   "source": [
    "**Q.16** **Rédiger** un script, **sans définir de fonction**, qui s'applique au cas de la liste `LaGoNum` du §`I.3.1` pour afficher le résultat avec la fonction `array()` de `NumPy`."
   ]
  },
  {
   "cell_type": "code",
   "execution_count": 35,
   "metadata": {},
   "outputs": [
    {
     "name": "stdout",
     "output_type": "stream",
     "text": [
      "Pour la liste d'adjacence du graphe orienté : [[1, 4], [], [0, 1, 3, 4], [], [3]]\n",
      "La matrice d'adjacence est :\n",
      "[[0 1 0 0 1]\n",
      " [0 0 0 0 0]\n",
      " [1 1 0 1 1]\n",
      " [0 0 0 0 0]\n",
      " [0 0 0 1 0]]\n"
     ]
    }
   ],
   "source": [
    "# Réponse Q.16 : mise en oeuvre de La2MaO() pour vérification\n",
    "print('Pour la liste d\\'adjacence du graphe orienté :', LaGoNum)\n",
    "Ma = La2MaO(LaGoNum)\n",
    "print('La matrice d\\'adjacence est :')\n",
    "import numpy as np\n",
    "print(np.array(Ma))"
   ]
  },
  {
   "cell_type": "markdown",
   "metadata": {
    "tags": []
   },
   "source": [
    "#### I.3.5.2 Construction de la liste des arêtes\n",
    "La liste des arêtes est toujours construite à partir de la liste d'adjacence, mais en tenant compte de leur orientation. Pour la prendre en compte, la liste d'adjacence formulée d'une nouvelle manière pour faire référence aux arêtes :\n",
    ">la liste d'adjacence d'un graphe orienté est la liste des couples dont le premier terme est le sommet à la queue de l'arête et le second, le sommet à sa tête (figure 3).\n",
    "\n",
    "<center><img src=\"illustrations/fig03_OrientationArete.pdf\"><br>\n",
    "Figure 3 – Arête orientée.</center>\n",
    "\n",
    "**Q.17** Sur la base de la formulation précédente, **créer** un script de la fonction dont le protype est :\n",
    "\n",
    "`def La2LeO(La: list of list) -> list of list:`\n",
    "\n",
    "recevant la liste d'adjacence `La` d'un graphe orienté et renvoyant la liste de ses arêtes. Cette fonction ne doit permettre aucun affichage. Si, pour une raison quelconque, la conversion n'est pas possible, la fonction renverra `None`.\n",
    "\n",
    "**Remarque** – Dans le cas cas des graphes non-orientés, la construction de cette liste nécessitait de ne pas prendre en compte les arêtes deux fois. Revenir sur cette considération dans le cas des graphes orientés. \n",
    "\n",
    "**Compléter** à la suite par un script de quelques lignes permettant de vérifier cette fonction."
   ]
  },
  {
   "cell_type": "code",
   "execution_count": 36,
   "metadata": {},
   "outputs": [],
   "source": [
    "# Réponse Q.17\n",
    "def La2LeO(La): # Construction de la liste des arêtes Le à partir de la liste d'adjacence La d'un graphe orienté\n",
    "    \"\"\"CE : La = Liste d'adjacence d'un graphe orienté\n",
    "    CS : Liste des arêtes du graphe.\n",
    "    Conversion d'une liste d'adjacence d'un graphe orienté en sa liste des arêtes.\"\"\"\n",
    "    if not (type(La) == list and type(La[0]) == list): # aLst = liste d'adj correctement formée ?\n",
    "        return \n",
    "    n = len(La) # n = nbre de sommets du graphe\n",
    "    Le = [] # Initialisation de la liste des arêtes\n",
    "    for i in range(n): # Scrutation sommets\n",
    "        for j in La[i]: # Scrutation  des indices des sommets adjacents du sommet i\n",
    "            Le.append([i, j]) # Ajoute l'arête avec la bonne orientation\n",
    "    return Le"
   ]
  },
  {
   "cell_type": "code",
   "execution_count": 37,
   "metadata": {},
   "outputs": [
    {
     "name": "stdout",
     "output_type": "stream",
     "text": [
      "Pour la liste d'adjacence du graphe orienté : [[1, 4], [], [0, 1, 3, 4], [], [3]]\n",
      "La liste des arêtes obtenue est : [[0, 1], [0, 4], [2, 0], [2, 1], [2, 3], [2, 4], [4, 3]]\n"
     ]
    }
   ],
   "source": [
    "# Mise en oeuvre de La2LeO() pour vérification\n",
    "print('Pour la liste d\\'adjacence du graphe orienté :', LaGoNum)\n",
    "print('La liste des arêtes obtenue est :', La2LeO(LaGoNum))"
   ]
  },
  {
   "cell_type": "markdown",
   "metadata": {},
   "source": [
    "#### I.3.5.3 Construction de la matrice d’incidence\n",
    "\n",
    "**Q.18** Nous nous basons ici sur la liste d'adjacence des graphes non-orientés pour **créer** un script de la fonction dont le protype est :\n",
    "\n",
    "`def La2MiO(Ma: list of list) -> matrix:`\n",
    "\n",
    "recevant la liste d'adjacence `La` d'un graphe orienté et renvoyant sa matrice d'incidence. Les contraintes de construction seront les mêmes que pour les fonctions déjà traitées. \n",
    "\n",
    "**Remarque**\n",
    "1. Concevoir cette fonction en utilisant des tableaux `NumPy` (array).\n",
    "2. Prendre en compte la tête (indice 1) et la queue (indice 0) des arêtes pour attribuer des valeurs `1` ou `-1` aux termes de la matrice d'incidence. \n",
    "\n",
    "**Compléter** par un script de quelques lignes permettant de vérifier cette fonction. Privilégier l'usage de `Numpy`."
   ]
  },
  {
   "cell_type": "code",
   "execution_count": 39,
   "metadata": {
    "tags": []
   },
   "outputs": [],
   "source": [
    "def La2MiO(La): # Conversion d'une liste d'adjacence d'un graphe orienté en sa matrice d'incidence\n",
    "    \"\"\"CE : La = liste d'adjacence du graphe orienté.\n",
    "    CS : matrice d'incidence du graphe.\n",
    "    Conversion de la liste d'adjacence d'un graphe orienté en sa matrice d'incidence avec la méthode append.\"\"\"\n",
    "    Le = La2LeO(La) # Liste des arêtes orientées du graphe\n",
    "    n, m = len(La), len(Le) # n = nbre de sommets du graphe, m = nbre d'arêtes\n",
    "    Mi = np.zeros((n, m), dtype='int') # Initialisation de la matrice d'incidence\n",
    "    for j in range(m): # D'abord scrutation des colonnes de Mi (ie, les arêtes)\n",
    "        for i in range(n): # Puis scrutation des lignes de La (ie, les sommets)\n",
    "            if Le[j][0] == i: # La queue\n",
    "                Mi[i, j] = 1 \n",
    "            elif Le[j][1] == i: # La tête\n",
    "                Mi[i, j] = -1 \n",
    "            else: # Pas de coïncidence\n",
    "                Mi[i, j] = 0    \n",
    "    return Mi"
   ]
  },
  {
   "cell_type": "code",
   "execution_count": 40,
   "metadata": {},
   "outputs": [
    {
     "name": "stdout",
     "output_type": "stream",
     "text": [
      "Pour la liste d'adjacence (graphe orienté) :\n",
      "[[1, 4], [], [0, 1, 3, 4], [], [3]]\n",
      "La liste d'incidence est : [[0, 1], [0, 4], [2, 0], [2, 1], [2, 3], [2, 4], [4, 3]]\n",
      "La matrice d'incidence est :\n",
      "[[ 1  1 -1  0  0  0  0]\n",
      " [-1  0  0 -1  0  0  0]\n",
      " [ 0  0  1  1  1  1  0]\n",
      " [ 0  0  0  0 -1  0 -1]\n",
      " [ 0 -1  0  0  0 -1  1]]\n"
     ]
    }
   ],
   "source": [
    "# Mise en oeuvre de La2MiO() pour vérification\n",
    "print('Pour la liste d\\'adjacence (graphe orienté) :')\n",
    "print(LaGoNum)\n",
    "print('La liste d\\'incidence est :', La2LeO(LaGoNum))\n",
    "print('La matrice d\\'incidence est :')\n",
    "MiO = La2MiO(LaGoNum)\n",
    "print(np.array(MiO))"
   ]
  },
  {
   "cell_type": "markdown",
   "metadata": {},
   "source": [
    "# II. Fonctions de caractérisation des graphes\n",
    "Cette partie propose de créer différentes fonctions :\n",
    "1. pour effectuer des vérifications sur les listes, dictionnaires et matrices représentant des graphes pour illustrer leurs différentes proprités.\n",
    "2. mettre oeuvre les définitions établies en cours (diaporama « Éléments de base sur les graphes » diponible sur l'ENT Moodle) et dans la partie `I.` précédente.\n",
    "\n",
    "À terme, il est possible d'envisager de concevoir un script de fonction à laquelle serait passé la liste d'adjacence d'un graphe pour renvoyer une fiche des propriétés de ce graphe."
   ]
  },
  {
   "cell_type": "markdown",
   "metadata": {},
   "source": [
    "## II.1 Symétrie de la matrice d'adjacence d'un graphe non-orienté\n",
    "Nous avons constaté (§`I.2.3.1`) que la matrice d'adjacence d'un graphe non-orientée est toujours symétrique. Cette propriété peut permettre de vérifier que le graphe associé à une matrice symétrique est non-orienté.\n",
    "\n",
    "**Q.19** **Créer** un script de la fonction dont le protype est :\n",
    "\n",
    "`def isSymmetric(M: matrix) -> bool:`\n",
    "\n",
    "recevant une matrice `M` et renvoyant `True` si elle est carrée et symétrique et False `sinon`, donc susceptible de représenter un graphe non-orienté. Comme toujours, vette fonction ne doit permettre aucun affichage. Si, pour une raison quelconque, les traitements ne sont pas en mesure d'établir une valeur de vérité, la fonction renverra `None`.\n",
    "\n",
    "**Remarque** - Lors de la scrutation des élements de la matrice, il faudra être attentif à ne tester l'égalité des éléments diagonaux qu'**une seule fois**.\n",
    "\n",
    "Pour terminer, **concevoir** à la suite par un script de quelques lignes permettant de vérifier que cette fonction valide bien la symétrie du résultat renvoyé par la fonction `La2Ma()` du graphe `GnoNum`."
   ]
  },
  {
   "cell_type": "code",
   "execution_count": 41,
   "metadata": {},
   "outputs": [],
   "source": [
    "# Question Q.19\n",
    "def isSymmetric(M):\n",
    "    if type(M) != list:\n",
    "        return None # Si l'argument n'est pas une liste, pas la peine\n",
    "    else:\n",
    "        if type(M[0]) != list: # idem pour la première ligne, pas la peine\n",
    "            return None\n",
    "        else: # ici c'est une liste de listes\n",
    "            for l in M:\n",
    "                if len(l) != len(M[0]): # Une ligne de taille différente : pas une matrice\n",
    "                    return None\n",
    "            if len(M) != len(M[0]): # Nbre ligne différent du Nbre de colonne\n",
    "                return None # Pas la peine\n",
    "    # A partir d'ici la matrice est est carrée\n",
    "    n = len(M) # Taille matrice\n",
    "    for i in range(n):\n",
    "        for j in range(i, n):\n",
    "            if M[i][j] != M[j][i]:\n",
    "                return False\n",
    "    return True"
   ]
  },
  {
   "cell_type": "code",
   "execution_count": 42,
   "metadata": {},
   "outputs": [
    {
     "name": "stdout",
     "output_type": "stream",
     "text": [
      "Pour la liste d'adjacence : [[1, 2, 4], [0, 2], [0, 1, 3, 4], [2, 4], [0, 2, 3]]\n",
      "La matrice d'adjacence est :\n",
      " [[0 1 1 0 1]\n",
      " [1 0 1 0 0]\n",
      " [1 1 0 1 1]\n",
      " [0 0 1 0 1]\n",
      " [1 0 1 1 0]]\n",
      "Est-elle symétrique ?  True\n",
      "La matrice :\n",
      " [[0 1 1 0 1]\n",
      " [2 0 1 0 0]\n",
      " [1 1 0 1 1]\n",
      " [0 0 1 0 1]\n",
      " [1 0 1 1 0]]\n",
      "Est-elle symétrique ? False\n"
     ]
    }
   ],
   "source": [
    "# Mise en oeuvre de isSymmetric() pour vérification\n",
    "LaGnoNum = [[1, 2, 4], [0, 2], [0, 1, 3, 4], [2, 4], [0, 2, 3]]\n",
    "print('Pour la liste d\\'adjacence :', LaGnoNum)\n",
    "Ma = La2Ma(LaGnoNum)\n",
    "print('La matrice d\\'adjacence est :\\n', np.array(Ma))\n",
    "print('Est-elle symétrique ? ', isSymmetric(Ma))\n",
    "Mns = list(Ma) # initialisation d'une représentation non symétrique\n",
    "Mns[1][0] = 2 # Insersion d'une dissymétrie\n",
    "print('La matrice :\\n', np.array(Mns))\n",
    "print('Est-elle symétrique ?', isSymmetric(Mns))"
   ]
  },
  {
   "cell_type": "markdown",
   "metadata": {
    "tags": []
   },
   "source": [
    "## II.2 Détection de la cohérence d'un graphe (orienté ou pas) par sa matrice d'incidence\n",
    "Chaque colonne d'une matrice d'incidence d'un graphe code une seule arête comportant toujours deux extrémités, par conséquent, on y observe toujours :\n",
    "- deux `1` pour un graphe non-orienté,\n",
    "- un terme `-1` et un `1` pour un graphe orienté.\n",
    "\n",
    "Nous pouvons alors en déduire que la somme des termes de chacune de ses colonnes vaut :\n",
    "- **2** pour un graphe non-orienté,\n",
    "- **0** pour un graphe orienté.\n",
    "\n",
    "Ceci nous renseigne sur la nature et la cohérence des termes d'une matrice d'incidence.\n",
    "\n",
    "**Q.20** **Créer** un script de la fonction dont le protype est :\n",
    "\n",
    "`def isImatrix(M: matrix) -> 'no'|'o':`\n",
    "\n",
    "recevant une matrice d'incidence `M` et renvoyant `'no'` si la matrice `M` est possiblement la matrice d'incidence d'un graphe non-orienté ou `'o'` si c'est celle d'un graphe orienté. Pour les autres cas, incluant les incohérences (par exemple si `M` n'est pas une matrice), `None` sera renvoyé.\n",
    "\n",
    "**Utiliser** NumPy autant que possible en commençant par convertir la liste `M` en tableau `NumPy` par : `M = np.array(M)`.\n",
    "\n",
    "**Mettre en oeuvre** les essais de la fonction avec les différentes matrices définies."
   ]
  },
  {
   "cell_type": "code",
   "execution_count": 43,
   "metadata": {},
   "outputs": [],
   "source": [
    "# Question Q.20\n",
    "def isImatrix(M): # Avec NumPy - - - - - - - à revoir\n",
    "    if not isMatrix(M):\n",
    "        return\n",
    "    # À partir d'ici, M est une matrice 'bien formée'\n",
    "    M = np.array(M, dtype=int) # Conversion de M en NumPy\n",
    "    n, m = np.shape(M) # Extraction des tailles de M\n",
    "    mdl = np.ones(m, dtype=int) # Ligne de sommation type\n",
    "    lSum = np.sum(M, axis = 0) # Sommation par les colonnes\n",
    "    print('Sommation lSum / mdl', lSum, '/', mdl, ' - isMatrix()')\n",
    "    if (lSum == mdl*2).all():\n",
    "        return 'no'\n",
    "    elif (lSum == mdl*0).all():\n",
    "        return 'o'\n",
    "    return None # Pour les autres cas\n",
    "\n",
    "def isImatrix2(M): # Sans NumPy - - - - - - - à revoir\n",
    "    if not isMatrix(M):\n",
    "        return\n",
    "    # À partir d'ici, M est une matrice 'bien formée'\n",
    "    n, m = len(M), len(M[0]) # Extraction des tailles de M\n",
    "    mdl2 = [2]*m # Ligne de sommation type graphe non-orienté\n",
    "    mdl0 = [0]*m # Ligne de sommation type graphe orienté\n",
    "    lSum = [0]*m # Initialisation de la sommation des colonnes\n",
    "    for j in range(m): # Sommation par colonnes\n",
    "        s = 0\n",
    "        for i in range(n):\n",
    "            s += M[i][j]\n",
    "        lSum[j] = s\n",
    "    print('Sommation lSum / mdl', lSum, '/', mdl2, ' - isMatrix2()')\n",
    "    if lSum == mdl2:   # Ligne de 2...\n",
    "        return 'no'     # ... Pour les graphes non-orientés\n",
    "    if lSum == mdl0: # Ligne de 0...\n",
    "        return 'o'      #... Pour les graphes orientés\n",
    "    return None         # Pour les autres cas"
   ]
  },
  {
   "cell_type": "code",
   "execution_count": 44,
   "metadata": {},
   "outputs": [
    {
     "name": "stdout",
     "output_type": "stream",
     "text": [
      "Pour la liste d'adjacence : [[1, 2, 4], [0, 2], [0, 1, 3, 4], [2, 4], [0, 2, 3]]\n",
      "La matrice d'incidence est :\n",
      " [[1 1 1 0 0 0 0]\n",
      " [1 0 0 1 0 0 0]\n",
      " [0 1 0 1 1 1 0]\n",
      " [0 0 0 0 1 0 1]\n",
      " [0 0 1 0 0 1 1]]\n",
      "Sommation lSum / mdl [2 2 2 2 2 2 2] / [1 1 1 1 1 1 1]  - isMatrix()\n",
      " Cette matrice d'incidence est-elle cohérente pour un graphe non-orienté (NumPy) ?  no\n",
      "Sommation lSum / mdl [2, 2, 2, 2, 2, 2, 2] / [2, 2, 2, 2, 2, 2, 2]  - isMatrix2()\n",
      "Cette matrice d'incidence est-elle cohérente pour un graphe non-orienté (Python) ?  no\n",
      "\n",
      "Pour la liste d'adjacence : [[1, 4], [], [0, 1, 3, 4], [], [3]]\n",
      "La matrice d'incidence est :\n",
      " [[ 1  1 -1  0  0  0  0]\n",
      " [-1  0  0 -1  0  0  0]\n",
      " [ 0  0  1  1  1  1  0]\n",
      " [ 0  0  0  0 -1  0 -1]\n",
      " [ 0 -1  0  0  0 -1  1]]\n",
      " Cette matrice d'incidence est-elle cohérente pour un graphe orienté (NumPy) ?  None\n",
      "Cette matrice d'incidence est-elle cohérente pour un graphe orienté (Python) ?  None\n"
     ]
    },
    {
     "name": "stderr",
     "output_type": "stream",
     "text": [
      "/var/folders/vr/j29hsskd0rd47tmjb3shbhqm0000gn/T/ipykernel_76910/67371436.py:2: DeprecationWarning: elementwise comparison failed; this will raise an error in the future.\n",
      "  if U in ([], [[]]): # Cas de rejets possibles\n"
     ]
    }
   ],
   "source": [
    "# Mise en oeuvre de isImatrix() pour vérification\n",
    "LaGnoNum = [[1, 2, 4], [0, 2], [0, 1, 3, 4], [2, 4], [0, 2, 3]] # Rappel de GnoNum\n",
    "print('Pour la liste d\\'adjacence :', LaGnoNum)\n",
    "Mi = La2Mi(LaGnoNum)\n",
    "print('La matrice d\\'incidence est :\\n', np.array(Mi))\n",
    "print(' Cette matrice d\\'incidence est-elle cohérente pour un graphe non-orienté (NumPy) ? ', isImatrix(Mi))\n",
    "print('Cette matrice d\\'incidence est-elle cohérente pour un graphe non-orienté (Python) ? ', isImatrix2(Mi))\n",
    "\n",
    "LaGoNum = [[1, 4], [], [0, 1, 3, 4], [], [3]] # Rappel de GoNum\n",
    "print('\\nPour la liste d\\'adjacence :', LaGoNum)\n",
    "MiO = La2MiO(LaGoNum) # Fonction des graphes orientés\n",
    "print('La matrice d\\'incidence est :\\n', np.array(MiO))\n",
    "print(' Cette matrice d\\'incidence est-elle cohérente pour un graphe orienté (NumPy) ? ', isImatrix(MiO))\n",
    "print('Cette matrice d\\'incidence est-elle cohérente pour un graphe orienté (Python) ? ', isImatrix2(MiO))"
   ]
  },
  {
   "cell_type": "raw",
   "metadata": {},
   "source": [
    "Pour la liste d'adjacence : [[1, 2, 4], [0, 2], [0, 1, 3, 4], [2, 4], [0, 2, 3]]\n",
    "La matrice d'incidence est :\n",
    " [[1 1 1 0 0 0 0]\n",
    " [1 0 0 1 0 0 0]\n",
    " [0 1 0 1 1 1 0]\n",
    " [0 0 0 0 1 0 1]\n",
    " [0 0 1 0 0 1 1]]\n",
    "Sommation lSum / mdl [2 2 2 2 2 2 2] / [1 1 1 1 1 1 1]  - isMatrix()\n",
    " Cette matrice d'incidence est-elle cohérente pour un graphe non-orienté (NumPy) ?  no"
   ]
  },
  {
   "cell_type": "markdown",
   "metadata": {},
   "source": [
    "## II.3 Caractéristiques des sommets d’un graphe\n",
    "Les représentations les plus simples d'un graphe sont :\n",
    "- la **liste d'adjacence** pour les graphes numériques ;\n",
    "- le **dictionnaire d'adjacence** pour les graphes alphanumériques, mais qui peut aussi représenter un graphe numérique, ce qui confère au dictionnaire un mode de représentation très général des graphes.\n",
    "\n",
    "**Q.21** **Rédiger** un script permettant d'affecter toutes les listes et dictionnaires d'adjacence des 4 graphes exemples. Il y a peu de choses a créer ici, tous ont déjà été définis, il faut juste tout regrouper dans un script de quelques lignes.\n",
    "\n",
    "**Terminer** par la rédaction d'un script permettant d'afficher tous ces objets."
   ]
  },
  {
   "cell_type": "code",
   "execution_count": 45,
   "metadata": {},
   "outputs": [
    {
     "name": "stdout",
     "output_type": "stream",
     "text": [
      "0 : [[1, 2, 4], [0, 2], [0, 1, 3, 4], [2, 4], [0, 2, 3]] \n",
      "\n",
      "1 : [['Lyon', 'Paris', 'Strasbourg'], ['Lille', 'Paris'], ['Lille', 'Lyon', 'Bordeaux', 'Strasbourg'], ['Paris', 'Strasbourg'], ['Lille', 'Paris', 'Bordeaux']] \n",
      "\n",
      "2 : {'Lille': ['Lyon', 'Paris', 'Strasbourg'], 'Lyon': ['Lille', 'Paris'], 'Paris': ['Lille', 'Lyon', 'Bordeaux', 'Strasbourg'], 'Bordeaux': ['Paris', 'Strasbourg'], 'Strasbourg': ['Lille', 'Paris', 'Bordeaux']} \n",
      "\n",
      "3 : [[1, 4], [], [0, 1, 3, 4], [], [3]] \n",
      "\n",
      "4 : [['Lyon', 'Strasbourg'], [], ['Lille', 'Lyon', 'Bordeaux', 'Strasbourg'], [], ['Bordeaux']] \n",
      "\n",
      "5 : {'Lille': ['Lyon', 'Strasbourg'], 'Lyon': [], 'Paris': ['Lille', 'Lyon', 'Bordeaux', 'Strasbourg'], 'Bordeaux': [], 'Strasbourg': ['Bordeaux']} \n",
      "\n"
     ]
    }
   ],
   "source": [
    "# Rappel : \"Lille\" = 0, \"Lyon\" = 1, \"Paris\" = 2, \"Bordeaux\" = 3, \"Strasbourg\" = 4\n",
    "LaGnoNum = [[1, 2, 4], [0, 2], [0, 1, 3, 4], [2, 4], [0, 2, 3]]\n",
    "LaGnoAlpha = [[\"Lyon\", \"Paris\", \"Strasbourg\"], [\"Lille\", \"Paris\"], [\"Lille\", \"Lyon\", \"Bordeaux\", \"Strasbourg\"],\n",
    "              [\"Paris\", \"Strasbourg\"], [\"Lille\", \"Paris\", \"Bordeaux\"]]\n",
    "DaGnoAlpha = {\"Lille\":  [\"Lyon\", \"Paris\", \"Strasbourg\"],\n",
    "              \"Lyon\": [\"Lille\", \"Paris\"], \n",
    "              \"Paris\": [\"Lille\", \"Lyon\", \"Bordeaux\", \"Strasbourg\"],\n",
    "              \"Bordeaux\": [\"Paris\", \"Strasbourg\"],\n",
    "              \"Strasbourg\": [\"Lille\", \"Paris\", \"Bordeaux\"]}\n",
    "LaGoNum = [[1, 4], [], [0, 1, 3, 4], [], [3]]\n",
    "LaGoAlpha = [[\"Lyon\", \"Strasbourg\"], [], [\"Lille\", \"Lyon\", \"Bordeaux\", \"Strasbourg\"], [], [\"Bordeaux\"]]\n",
    "DaGoAlpha = {\"Lille\": [\"Lyon\", \"Strasbourg\"],\n",
    "             \"Lyon\": [],\n",
    "             \"Paris\":  [\"Lille\", \"Lyon\", \"Bordeaux\", \"Strasbourg\"],\n",
    "             \"Bordeaux\": [],\n",
    "             \"Strasbourg\": [\"Bordeaux\"]}\n",
    "\n",
    "allObjects = (LaGnoNum, LaGnoAlpha, DaGnoAlpha, LaGoNum, LaGoAlpha, DaGoAlpha)\n",
    "for rank, obj in enumerate(allObjects):\n",
    "    print(rank, ':', obj, '\\n')"
   ]
  },
  {
   "cell_type": "markdown",
   "metadata": {},
   "source": [
    "**Q.22** **Rédiger** un script permettant d'afficher chaque graphe, puis, à la suite chacun de ses sommets sur différentes lignes :\n",
    "1. l'énumération de ses voisins ;\n",
    "2. le degré de ce sommet ;\n",
    "3. à la fin, au-dessous, l'ordre et le degré du graphe.\n",
    "\n",
    "Le choix de la structure représentative des graphes est laissé libre, mais **manipuler aussi bien des listes que des dictionnaires**.\n",
    "\n",
    "**Pour rappel**, la recherche du maximun d'un groupe de valeurs a été étudié durant l'année. La méthode consiste à actualiser le maximum avec chaque nouveau degré calculé."
   ]
  },
  {
   "cell_type": "code",
   "execution_count": 46,
   "metadata": {},
   "outputs": [
    {
     "name": "stdout",
     "output_type": "stream",
     "text": [
      "0 - [[1, 2, 4], [0, 2], [0, 1, 3, 4], [2, 4], [0, 2, 3]] :\n",
      "Sommet [1, 2, 4] de degré 3\n",
      "Sommet [0, 2] de degré 2\n",
      "Sommet [0, 1, 3, 4] de degré 4\n",
      "Sommet [2, 4] de degré 2\n",
      "Sommet [0, 2, 3] de degré 3\n",
      "- - - Récapitulatif\n",
      "Ordre du graphe : 5\n",
      "Degré du graphe : 4\n",
      "\n",
      "1 - {'Lille': ['Lyon', 'Paris', 'Strasbourg'], 'Lyon': ['Lille', 'Paris'], 'Paris': ['Lille', 'Lyon', 'Bordeaux', 'Strasbourg'], 'Bordeaux': ['Paris', 'Strasbourg'], 'Strasbourg': ['Lille', 'Paris', 'Bordeaux']} :\n",
      "Sommet Lille de degré 3\n",
      "Sommet Lyon de degré 2\n",
      "Sommet Paris de degré 4\n",
      "Sommet Bordeaux de degré 2\n",
      "Sommet Strasbourg de degré 3\n",
      "- - - Récapitulatif\n",
      "Ordre du graphe : 5\n",
      "Degré du graphe : 4\n",
      "\n",
      "2 - [[1, 4], [], [0, 1, 3, 4], [], [3]] :\n",
      "Sommet [1, 4] de degré 2\n",
      "Sommet [] de degré 0\n",
      "Sommet [0, 1, 3, 4] de degré 4\n",
      "Sommet [] de degré 0\n",
      "Sommet [3] de degré 1\n",
      "- - - Récapitulatif\n",
      "Ordre du graphe : 5\n",
      "Degré du graphe : 4\n",
      "\n",
      "3 - {'Lille': ['Lyon', 'Strasbourg'], 'Lyon': [], 'Paris': ['Lille', 'Lyon', 'Bordeaux', 'Strasbourg'], 'Bordeaux': [], 'Strasbourg': ['Bordeaux']} :\n",
      "Sommet Lille de degré 2\n",
      "Sommet Lyon de degré 0\n",
      "Sommet Paris de degré 4\n",
      "Sommet Bordeaux de degré 0\n",
      "Sommet Strasbourg de degré 1\n",
      "- - - Récapitulatif\n",
      "Ordre du graphe : 5\n",
      "Degré du graphe : 4\n",
      "\n"
     ]
    }
   ],
   "source": [
    "AllGraphs = (LaGnoNum, DaGnoAlpha, LaGoNum, DaGoAlpha)\n",
    "for rank, obj in enumerate(AllGraphs): # Sur le principe de Q.20.\n",
    "    order = len(obj) # Ordre du graphe = nbre de sommets = taille de l'objet\n",
    "    print(rank, '-', obj, ':') # 1. l'énumération de ses voisins\n",
    "    graphDegree = 0 # Initialisation du degré du graphe\n",
    "    for vertex in obj: # Scrutation des sommets (toujours des listes) du graphe courant\n",
    "        if type(obj) == dict:\n",
    "            vertexDegree = len(obj[vertex]) # vertex est une clé qui pointe vers une donnée liste\n",
    "        elif type(obj) == list:\n",
    "            vertexDegree = len(vertex) # vertex est une liste ici         \n",
    "        if vertexDegree > graphDegree: # Mise à jour du...\n",
    "            graphDegree = vertexDegree # ...max des degrés = degré du graphe\n",
    "        print('Sommet', vertex, 'de degré', vertexDegree) # 2. le degré de ce sommet       \n",
    "    print('- - - Récapitulatif')\n",
    "    # 3. à la fin, au-dessous, l'ordre et le degré du graphe.    \n",
    "    print('Ordre du graphe :', order) # Défini plus haut\n",
    "    print('Degré du graphe :', graphDegree) # Rappel, max des degrés des sommets\n",
    "    print() # Ligne de séparation"
   ]
  },
  {
   "cell_type": "markdown",
   "metadata": {},
   "source": [
    "# <center>— Fin du TD « Graphes » —</center>"
   ]
  }
 ],
 "metadata": {
  "kernelspec": {
   "display_name": "Python 3 (ipykernel)",
   "language": "python",
   "name": "python3"
  },
  "language_info": {
   "codemirror_mode": {
    "name": "ipython",
    "version": 3
   },
   "file_extension": ".py",
   "mimetype": "text/x-python",
   "name": "python",
   "nbconvert_exporter": "python",
   "pygments_lexer": "ipython3",
   "version": "3.11.7"
  },
  "widgets": {
   "application/vnd.jupyter.widget-state+json": {
    "state": {},
    "version_major": 2,
    "version_minor": 0
   }
  }
 },
 "nbformat": 4,
 "nbformat_minor": 4
}
